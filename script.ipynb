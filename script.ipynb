{
 "cells": [
  {
   "cell_type": "code",
   "execution_count": 1,
   "metadata": {},
   "outputs": [],
   "source": [
    "import numpy as np\n",
    "import matplotlib.pyplot as plt"
   ]
  },
  {
   "cell_type": "code",
   "execution_count": 2,
   "metadata": {},
   "outputs": [
    {
     "name": "stdout",
     "output_type": "stream",
     "text": [
      "/home/mrk/diod_shottky/data\n"
     ]
    }
   ],
   "source": [
    "cd data/"
   ]
  },
  {
   "cell_type": "code",
   "execution_count": 5,
   "metadata": {},
   "outputs": [
    {
     "name": "stdout",
     "output_type": "stream",
     "text": [
      "3.38-3.27.txt  3.68-3.9.txt  3.69-3.89.txt  4.32-4.28.txt  4.89-4.96.txt\r\n"
     ]
    }
   ],
   "source": [
    "ls # напряжения, при которых снималась ВАХ и которые нужно перевести в температуру "
   ]
  },
  {
   "cell_type": "markdown",
   "metadata": {},
   "source": [
    "# Определение температур, при которых измерялись ВАХ, с погрешностями\n",
    "Для того, чтобы определить температуру, при которой проходило измерение, зависимость напряжения от температуры на каждом участке клалась прямой (по формуле для прямой через две точки)."
   ]
  },
  {
   "cell_type": "code",
   "execution_count": 6,
   "metadata": {},
   "outputs": [],
   "source": [
    "def lin_func(x, x1, x2, y1, y2):\n",
    "    return (y2 - y1) * (x - x1) / (x2 - x1) + y1"
   ]
  },
  {
   "cell_type": "code",
   "execution_count": 7,
   "metadata": {},
   "outputs": [
    {
     "name": "stdout",
     "output_type": "stream",
     "text": [
      "T = 219.6 +- 1.8 К\n"
     ]
    }
   ],
   "source": [
    "# 3.38-3.27 --- интервал напряжений, где измерялась ВАХ (мВ)\n",
    "x_start = 3.38\n",
    "x_final = 3.27\n",
    "\n",
    "# интервал с таблицы\n",
    "x1 = 3.020  # мВ\n",
    "x2 = 3.653  # мВ\n",
    "y1 = 210  # К\n",
    "y2 = 230  # К\n",
    "\n",
    "x_izm_err = 1e-2  # измерительная погрешность (мВ)\n",
    "\n",
    "Ts = np.array([lin_func(x_start, x1, x2, y1, y2),\n",
    "               lin_func(x_final, x1, x2, y1, y2)])  # К\n",
    "\n",
    "T1 = Ts.mean()\n",
    "\n",
    "T_izm_err = (y2 - y1) * x_izm_err / (x2 - x1)\n",
    "T1_err = np.sqrt(Ts.std()**2 + T_izm_err**2)\n",
    "\n",
    "print(f\"T = {T1:.4} +- {T1_err:.2} К\")"
   ]
  },
  {
   "cell_type": "code",
   "execution_count": 8,
   "metadata": {},
   "outputs": [
    {
     "name": "stdout",
     "output_type": "stream",
     "text": [
      "T = 234.2 +- 3.4 К\n"
     ]
    }
   ],
   "source": [
    "# 3.68-3.9 --- интервал напряжений, где измерялась ВАХ (мВ)\n",
    "x_start = 3.68\n",
    "x_final = 3.9\n",
    "\n",
    "# интервал с таблицы\n",
    "x1 = 3.653  # мВ\n",
    "x2 = 3.980  # мВ\n",
    "y1 = 230  # К\n",
    "y2 = 240  # К\n",
    "\n",
    "x_izm_err = 1e-2  # измерительная погрешность (мВ)\n",
    "\n",
    "Ts = np.array([lin_func(x_start, x1, x2, y1, y2),\n",
    "               lin_func(x_final, x1, x2, y1, y2)])  # К\n",
    "\n",
    "T2 = Ts.mean()\n",
    "\n",
    "T_izm_err = (y2 - y1) * x_izm_err / (x2 - x1)\n",
    "T2_err = np.sqrt(Ts.std()**2 + T_izm_err**2)\n",
    "\n",
    "print(f\"T = {T2:.4} +- {T2_err:.2} К\")"
   ]
  },
  {
   "cell_type": "code",
   "execution_count": 9,
   "metadata": {},
   "outputs": [
    {
     "name": "stdout",
     "output_type": "stream",
     "text": [
      "T = 234.2 +- 3.1 К\n"
     ]
    }
   ],
   "source": [
    "# 3.69-3.89 --- интервал напряжений, где измерялась ВАХ (мВ)\n",
    "x_start = 3.69\n",
    "x_final = 3.89\n",
    "\n",
    "# интервал с таблицы\n",
    "x1 = 3.653  # мВ\n",
    "x2 = 3.980  # мВ\n",
    "y1 = 230  # К\n",
    "y2 = 240  # К\n",
    "\n",
    "x_izm_err = 1e-2  # измерительная погрешность (мВ)\n",
    "\n",
    "Ts = np.array([lin_func(x_start, x1, x2, y1, y2),\n",
    "               lin_func(x_final, x1, x2, y1, y2)])  # К\n",
    "\n",
    "T3 = Ts.mean()\n",
    "\n",
    "T_izm_err = (y2 - y1) * x_izm_err / (x2 - x1)\n",
    "T3_err = np.sqrt(Ts.std()**2 + T_izm_err**2)\n",
    "\n",
    "print(f\"T = {T3:.4} +- {T3_err:.2} К\")"
   ]
  },
  {
   "cell_type": "code",
   "execution_count": 10,
   "metadata": {},
   "outputs": [
    {
     "name": "stdout",
     "output_type": "stream",
     "text": [
      "T = 249.1 +- 0.64 К\n"
     ]
    }
   ],
   "source": [
    "# 4.32-4.28 --- интервал напряжений, где измерялась ВАХ (мВ)\n",
    "x_start = 4.32\n",
    "x_final = 4.28\n",
    "\n",
    "# интервал с таблицы\n",
    "x1 = 3.980  # мВ\n",
    "x2 = 4.330  # мВ\n",
    "y1 = 240  # К\n",
    "y2 = 250  # К\n",
    "\n",
    "x_izm_err = 1e-2  # измерительная погрешность (мВ)\n",
    "\n",
    "Ts = np.array([lin_func(x_start, x1, x2, y1, y2),\n",
    "               lin_func(x_final, x1, x2, y1, y2)])  # К\n",
    "\n",
    "T4 = Ts.mean()\n",
    "\n",
    "T_izm_err = (y2 - y1) * x_izm_err / (x2 - x1)\n",
    "T4_err = np.sqrt(Ts.std()**2 + T_izm_err**2)\n",
    "\n",
    "print(f\"T = {T4:.4} +- {T4_err:.2} К\")"
   ]
  },
  {
   "cell_type": "code",
   "execution_count": 11,
   "metadata": {},
   "outputs": [
    {
     "name": "stdout",
     "output_type": "stream",
     "text": [
      "T = 267.6 +- 1.0 К\n"
     ]
    }
   ],
   "source": [
    "# 4.89-4.96 --- интервал напряжений, где измерялась ВАХ (мВ)\n",
    "x_start = 4.89\n",
    "x_final = 4.96\n",
    "\n",
    "# интервал с таблицы\n",
    "x1 = 4.660  # мВ\n",
    "x2 = 5.010  # мВ\n",
    "y1 = 260  # К\n",
    "y2 = 270  # К\n",
    "\n",
    "x_izm_err = 1e-2  # измерительная погрешность (мВ)\n",
    "\n",
    "Ts = np.array([lin_func(x_start, x1, x2, y1, y2),\n",
    "               lin_func(x_final, x1, x2, y1, y2)])  # К\n",
    "\n",
    "T5 = Ts.mean()\n",
    "\n",
    "T_izm_err = (y2 - y1) * x_izm_err / (x2 - x1)\n",
    "T5_err = np.sqrt(Ts.std()**2 + T_izm_err**2)\n",
    "\n",
    "print(f\"T = {T5:.4} +- {T5_err:.2} К\")"
   ]
  },
  {
   "cell_type": "markdown",
   "metadata": {},
   "source": [
    "# Cемейство ВАХ диода Шоттки при различных температурах"
   ]
  },
  {
   "cell_type": "code",
   "execution_count": 63,
   "metadata": {},
   "outputs": [],
   "source": [
    "vi1 = np.genfromtxt(\"3.38-3.27.txt\")\n",
    "vi1[:, 1] /= 10\n",
    "\n",
    "vi2 = np.genfromtxt(\"3.68-3.9.txt\")\n",
    "vi2[:, 1] /= 10\n",
    "\n",
    "vi3 = np.genfromtxt(\"3.69-3.89.txt\")\n",
    "vi3[:, 1] /= 10\n",
    "\n",
    "vi4 = np.genfromtxt(\"4.32-4.28.txt\")\n",
    "vi4[:, 1] /= 10\n",
    "\n",
    "vi5 = np.genfromtxt(\"4.89-4.96.txt\")\n",
    "vi5[:, 1] /= 10"
   ]
  },
  {
   "cell_type": "code",
   "execution_count": 72,
   "metadata": {},
   "outputs": [
    {
     "data": {
      "text/plain": [
       "<matplotlib.legend.Legend at 0x7f23dc098df0>"
      ]
     },
     "execution_count": 72,
     "metadata": {},
     "output_type": "execute_result"
    },
    {
     "data": {
      "image/png": "[encoded data removed]",
      "text/plain": [
       "<Figure size 432x288 with 1 Axes>"
      ]
     },
     "metadata": {
      "needs_background": "light"
     },
     "output_type": "display_data"
    }
   ],
   "source": [
    "v_izm_err = 1e-4  # В\n",
    "i_izm_err = 1e-5  # А\n",
    "\n",
    "plt.errorbar(vi1[:, 0], vi1[:, 1], xerr=v_izm_err, yerr=i_izm_err,\n",
    "             label=fr\"T = {T1:.4} $\\pm$ {T1_err:.2} К\", lw=1)\n",
    "plt.errorbar(vi2[:, 0], vi2[:, 1], xerr=v_izm_err, yerr=i_izm_err,\n",
    "             label=fr\"T = {T2:.4} $\\pm$ {T2_err:.2} К\", lw=1)\n",
    "plt.errorbar(vi3[:, 0], vi3[:, 1], xerr=v_izm_err, yerr=i_izm_err,\n",
    "             label=fr\"T = {T3:.4} $\\pm$ {T3_err:.2} К\", lw=1)\n",
    "plt.errorbar(vi4[:, 0], vi4[:, 1], xerr=v_izm_err, yerr=i_izm_err,\n",
    "             label=fr\"T = {T4:.4} $\\pm$ {T4_err:.2} К\", lw=1)\n",
    "plt.errorbar(vi5[:, 0], vi5[:, 1], xerr=v_izm_err, yerr=i_izm_err,\n",
    "             label=fr\"T = {T5:.4} $\\pm$ {T5_err:.2} К\", lw=1)\n",
    "\n",
    "plt.yscale('log')\n",
    "\n",
    "plt.xlabel('Напряжение, В')\n",
    "plt.ylabel('Ток, А')\n",
    "\n",
    "plt.grid()\n",
    "plt.legend(loc=2)"
   ]
  },
  {
   "cell_type": "code",
   "execution_count": null,
   "metadata": {},
   "outputs": [],
   "source": []
  }
 ],
 "metadata": {
  "kernelspec": {
   "display_name": "Python 3",
   "language": "python",
   "name": "python3"
  },
  "language_info": {
   "codemirror_mode": {
    "name": "ipython",
    "version": 3
   },
   "file_extension": ".py",
   "mimetype": "text/x-python",
   "name": "python",
   "nbconvert_exporter": "python",
   "pygments_lexer": "ipython3",
   "version": "3.9.12"
  }
 },
 "nbformat": 4,
 "nbformat_minor": 4
}
