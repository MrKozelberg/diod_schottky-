{
 "cells": [
  {
   "cell_type": "code",
   "execution_count": 1,
   "metadata": {},
   "outputs": [],
   "source": [
    "import numpy as np\n",
    "import matplotlib.pyplot as plt\n",
    "from scipy.constants import k, e, m_e, pi, h"
   ]
  },
  {
   "cell_type": "markdown",
   "metadata": {},
   "source": [
    "# Определение температур, при которых измерялись ВАХ, с погрешностями\n",
    "Для того, чтобы определить температуру, при которой проходило измерение, зависимость напряжения от температуры на каждом участке клалась прямой (по формуле для прямой через две точки)."
   ]
  },
  {
   "cell_type": "code",
   "execution_count": 2,
   "metadata": {},
   "outputs": [],
   "source": [
    "def lin_func(x, x1, x2, y1, y2):\n",
    "    return (y2 - y1) * (x - x1) / (x2 - x1) + y1"
   ]
  },
  {
   "cell_type": "code",
   "execution_count": 3,
   "metadata": {},
   "outputs": [
    {
     "name": "stdout",
     "output_type": "stream",
     "text": [
      "T = 219.6 +- 1.8 К\n"
     ]
    }
   ],
   "source": [
    "# 3.38-3.27 --- интервал напряжений, где измерялась ВАХ (мВ)\n",
    "x_start = 3.38\n",
    "x_final = 3.27\n",
    "\n",
    "# интервал с таблицы\n",
    "x1 = 3.020  # мВ\n",
    "x2 = 3.653  # мВ\n",
    "y1 = 210  # К\n",
    "y2 = 230  # К\n",
    "\n",
    "x_izm_err = 1e-2  # измерительная погрешность (мВ)\n",
    "\n",
    "Ts = np.array([lin_func(x_start, x1, x2, y1, y2),\n",
    "               lin_func(x_final, x1, x2, y1, y2)])  # К\n",
    "\n",
    "T1 = Ts.mean()\n",
    "\n",
    "T_izm_err = (y2 - y1) * x_izm_err / (x2 - x1)\n",
    "T1_err = np.sqrt(Ts.std()**2 + T_izm_err**2)\n",
    "\n",
    "print(f\"T = {T1:.4} +- {T1_err:.2} К\")"
   ]
  },
  {
   "cell_type": "code",
   "execution_count": 4,
   "metadata": {},
   "outputs": [],
   "source": [
    "# # 3.68-3.9 --- интервал напряжений, где измерялась ВАХ (мВ)\n",
    "# x_start = 3.68\n",
    "# x_final = 3.9\n",
    "\n",
    "# # интервал с таблицы\n",
    "# x1 = 3.653  # мВ\n",
    "# x2 = 3.980  # мВ\n",
    "# y1 = 230  # К\n",
    "# y2 = 240  # К\n",
    "\n",
    "# x_izm_err = 1e-2  # измерительная погрешность (мВ)\n",
    "\n",
    "# Ts = np.array([lin_func(x_start, x1, x2, y1, y2),\n",
    "#                lin_func(x_final, x1, x2, y1, y2)])  # К\n",
    "\n",
    "# T2 = Ts.mean()\n",
    "\n",
    "# T_izm_err = (y2 - y1) * x_izm_err / (x2 - x1)\n",
    "# T2_err = np.sqrt(Ts.std()**2 + T_izm_err**2)\n",
    "\n",
    "# print(f\"T = {T2:.4} +- {T2_err:.2} К\")"
   ]
  },
  {
   "cell_type": "code",
   "execution_count": 5,
   "metadata": {},
   "outputs": [
    {
     "name": "stdout",
     "output_type": "stream",
     "text": [
      "T = 234.2 +- 3.1 К\n"
     ]
    }
   ],
   "source": [
    "# 3.69-3.89 --- интервал напряжений, где измерялась ВАХ (мВ)\n",
    "x_start = 3.69\n",
    "x_final = 3.89\n",
    "\n",
    "# интервал с таблицы\n",
    "x1 = 3.653  # мВ\n",
    "x2 = 3.980  # мВ\n",
    "y1 = 230  # К\n",
    "y2 = 240  # К\n",
    "\n",
    "x_izm_err = 1e-2  # измерительная погрешность (мВ)\n",
    "\n",
    "Ts = np.array([lin_func(x_start, x1, x2, y1, y2),\n",
    "               lin_func(x_final, x1, x2, y1, y2)])  # К\n",
    "\n",
    "T3 = Ts.mean()\n",
    "\n",
    "T_izm_err = (y2 - y1) * x_izm_err / (x2 - x1)\n",
    "T3_err = np.sqrt(Ts.std()**2 + T_izm_err**2)\n",
    "\n",
    "print(f\"T = {T3:.4} +- {T3_err:.2} К\")"
   ]
  },
  {
   "cell_type": "code",
   "execution_count": 6,
   "metadata": {},
   "outputs": [
    {
     "name": "stdout",
     "output_type": "stream",
     "text": [
      "T = 249.1 +- 0.64 К\n"
     ]
    }
   ],
   "source": [
    "# 4.32-4.28 --- интервал напряжений, где измерялась ВАХ (мВ)\n",
    "x_start = 4.32\n",
    "x_final = 4.28\n",
    "\n",
    "# интервал с таблицы\n",
    "x1 = 3.980  # мВ\n",
    "x2 = 4.330  # мВ\n",
    "y1 = 240  # К\n",
    "y2 = 250  # К\n",
    "\n",
    "x_izm_err = 1e-2  # измерительная погрешность (мВ)\n",
    "\n",
    "Ts = np.array([lin_func(x_start, x1, x2, y1, y2),\n",
    "               lin_func(x_final, x1, x2, y1, y2)])  # К\n",
    "\n",
    "T4 = Ts.mean()\n",
    "\n",
    "T_izm_err = (y2 - y1) * x_izm_err / (x2 - x1)\n",
    "T4_err = np.sqrt(Ts.std()**2 + T_izm_err**2)\n",
    "\n",
    "print(f\"T = {T4:.4} +- {T4_err:.2} К\")"
   ]
  },
  {
   "cell_type": "code",
   "execution_count": 7,
   "metadata": {},
   "outputs": [
    {
     "name": "stdout",
     "output_type": "stream",
     "text": [
      "T = 267.6 +- 1.0 К\n"
     ]
    }
   ],
   "source": [
    "# 4.89-4.96 --- интервал напряжений, где измерялась ВАХ (мВ)\n",
    "x_start = 4.89\n",
    "x_final = 4.96\n",
    "\n",
    "# интервал с таблицы\n",
    "x1 = 4.660  # мВ\n",
    "x2 = 5.010  # мВ\n",
    "y1 = 260  # К\n",
    "y2 = 270  # К\n",
    "\n",
    "x_izm_err = 1e-2  # измерительная погрешность (мВ)\n",
    "\n",
    "Ts = np.array([lin_func(x_start, x1, x2, y1, y2),\n",
    "               lin_func(x_final, x1, x2, y1, y2)])  # К\n",
    "\n",
    "T5 = Ts.mean()\n",
    "\n",
    "T_izm_err = (y2 - y1) * x_izm_err / (x2 - x1)\n",
    "T5_err = np.sqrt(Ts.std()**2 + T_izm_err**2)\n",
    "\n",
    "print(f\"T = {T5:.4} +- {T5_err:.2} К\")"
   ]
  },
  {
   "cell_type": "markdown",
   "metadata": {},
   "source": [
    "Сохраним эту фигню в виде массива для удобства обработки"
   ]
  },
  {
   "cell_type": "code",
   "execution_count": 8,
   "metadata": {},
   "outputs": [],
   "source": [
    "T = np.array([T1, T3, T4, T5])\n",
    "T_err = np.array([T1_err, T3_err, T4_err, T5_err])"
   ]
  },
  {
   "cell_type": "markdown",
   "metadata": {},
   "source": [
    "# Cемейство ВАХ диода Шоттки при различных температурах"
   ]
  },
  {
   "cell_type": "code",
   "execution_count": 9,
   "metadata": {},
   "outputs": [],
   "source": [
    "S = 0.5 * (1e-3)**2  # м**2\n",
    "\n",
    "vi1 = np.genfromtxt(\"data/3.38-3.27.txt\")\n",
    "vi1[:, 1] /= S\n",
    "\n",
    "# vi2 = np.genfromtxt(\"data/3.68-3.9.txt\")\n",
    "# vi2[:, 1] /= 10 * S\n",
    "\n",
    "vi3 = np.genfromtxt(\"data/3.69-3.89.txt\")\n",
    "vi3[:, 1] /= S\n",
    "\n",
    "vi4 = np.genfromtxt(\"data/4.32-4.28.txt\")\n",
    "vi4[:, 1] /= S\n",
    "\n",
    "vi5 = np.genfromtxt(\"data/4.89-4.96.txt\")\n",
    "vi5[:, 1] /= S"
   ]
  },
  {
   "cell_type": "markdown",
   "metadata": {},
   "source": [
    "Исключаем всякие выбросы из данных измерений и сохраняем их в виде списков"
   ]
  },
  {
   "cell_type": "code",
   "execution_count": 10,
   "metadata": {},
   "outputs": [],
   "source": [
    "v = [vi1[:, 0], vi3[:, 0], vi4[:-1, 0], vi5[:-1, 0]]\n",
    "j = [vi1[:, 1], vi3[:, 1], vi4[:-1, 1], vi5[:-1, 1]]"
   ]
  },
  {
   "cell_type": "code",
   "execution_count": 11,
   "metadata": {},
   "outputs": [
    {
     "data": {
      "text/plain": [
       "'/home/mrk/diod_shottky'"
      ]
     },
     "execution_count": 11,
     "metadata": {},
     "output_type": "execute_result"
    }
   ],
   "source": [
    "pwd"
   ]
  },
  {
   "cell_type": "code",
   "execution_count": 13,
   "metadata": {},
   "outputs": [
    {
     "name": "stdout",
     "output_type": "stream",
     "text": [
      "T0 * k / e = 0.02 В\n",
      "T1 * k / e = 0.02 В\n",
      "T2 * k / e = 0.02 В\n",
      "T3 * k / e = 0.02 В\n"
     ]
    },
    {
     "data": {
      "image/png": "[encoded data removed]",
      "text/plain": [
       "<Figure size 432x288 with 1 Axes>"
      ]
     },
     "metadata": {
      "needs_background": "light"
     },
     "output_type": "display_data"
    }
   ],
   "source": [
    "v_izm_err = 1e-4  # В\n",
    "j_izm_err = 1e-4 / S  # А м-2\n",
    "\n",
    "for i in range(4):\n",
    "    plt.errorbar(v[i], j[i], xerr=v_izm_err, yerr=j_izm_err,\n",
    "                 label=fr\"T = {T[i]:.4} $\\pm$ {T_err[i]:.2} К\", lw=1)\n",
    "\n",
    "plt.xlabel('Напряжение V, В', fontsize='x-large')\n",
    "plt.ylabel(r'Плотность тока j, А м${}^{-2}$', fontsize='x-large')\n",
    "\n",
    "plt.grid()\n",
    "plt.legend(loc=2)\n",
    "\n",
    "for i in range(4):\n",
    "    print(f'T{i} * k / e = {T[i] * k / e:.1} В')\n",
    "\n",
    "plt.savefig('figures/j_vs_v.png', bbox_inches='tight', dpi=300)"
   ]
  },
  {
   "cell_type": "code",
   "execution_count": 14,
   "metadata": {},
   "outputs": [],
   "source": [
    "# вычисление производной\n",
    "\n",
    "df_dx = lambda f, x: (f[1:-1] - f[:-2]) / (x[1:-1] - x[:-2]) * (x[2:] - x[1:-1]) / (\n",
    "    x[2:] - x[:-2]) + (f[2:] - f[1:-1]) / (x[2:] - x[1:-1]) * (x[1:-1] - x[:-2]) / (\n",
    "    x[2:] - x[:-2])\n",
    "\n",
    "dj_dv = [df_dx(j[i], v[i]) for i in range(4)]"
   ]
  },
  {
   "cell_type": "markdown",
   "metadata": {},
   "source": [
    "Видно, что все измерения снимались при условии $V > kT/e$"
   ]
  },
  {
   "cell_type": "markdown",
   "metadata": {},
   "source": [
    "# Определение параметров $A^*$, $\\varphi_0$, $n$, $m^*/m$ и типа проводимости\n",
    "\n",
    "Сначала строим семейство зависимостей $\\mathrm{ln}\\{ j\\,/\\, [1 - \\mathrm{exp}(-eV\\,/\\,kT)] \\}$ от $V$. В каждом случае делаем линейную регрессию и находим свободный коэффициент, который равен $\\mathrm{ln}j_0$."
   ]
  },
  {
   "cell_type": "code",
   "execution_count": 15,
   "metadata": {},
   "outputs": [],
   "source": [
    "def func(V, j, T):\n",
    "    return np.log(j / (1-np.exp(-e * V / (k * T))))\n",
    "\n",
    "def Delta_func(V, j, T, V_err, j_err, T_err):\n",
    "    return j_err/j + e/k*(V_err*T+T_err*V)/T**2/(-1+np.exp(e*V/(k*T)))"
   ]
  },
  {
   "cell_type": "code",
   "execution_count": 16,
   "metadata": {},
   "outputs": [],
   "source": [
    "y = [np.log(j[i] / (1-np.exp(-e * v[i] / (k * T[i]))))\n",
    "     for i in range(4)]\n",
    "\n",
    "y_err = [j_izm_err/j[i] + e/k*(v_izm_err*T[i]+T_err[i]*v[i])\n",
    "         /T[i]**2/(-1+np.exp(e*v[i]/(k*T[i]))) for i in range(4)]"
   ]
  },
  {
   "cell_type": "code",
   "execution_count": 17,
   "metadata": {},
   "outputs": [
    {
     "data": {
      "image/png": "[encoded data removed]",
      "text/plain": [
       "<Figure size 432x288 with 1 Axes>"
      ]
     },
     "metadata": {
      "needs_background": "light"
     },
     "output_type": "display_data"
    }
   ],
   "source": [
    "for i in range(4):\n",
    "    plt.errorbar(v[i], y[i], xerr=v_izm_err, yerr=y_err[i],\n",
    "                 label=fr\"T = {T[i]:.4} $\\pm$ {T_err[i]:.2} К\", lw=1)\n",
    "    \n",
    "plt.xlabel('Напряжение V, В', fontsize='x-large')\n",
    "plt.ylabel(r'$\\mathsf{ln}\\dfrac{j}{1-\\mathsf{exp}(\\dfrac{-eV}{kT})}$', fontsize='x-large')\n",
    "\n",
    "plt.grid()\n",
    "plt.legend(loc=4)\n",
    "\n",
    "plt.savefig('figures/bigeq_vs_v.png', bbox_inches='tight', dpi=300)"
   ]
  },
  {
   "cell_type": "markdown",
   "metadata": {},
   "source": [
    "Теперь строим зависимость $\\mathrm{ln}\\{j_0\\, /\\, T^2\\}$ от $1\\,/\\,T$, снова делаем линейную регрессию. Старший коэффициент будет равен $\\mathrm{ln}A^*$, свободный же коэффициент будет равен $-e\\varphi_0\\,/\\,kT$. Отсюда находим эффективную постоянную Ричардсона и эффективную высоту барьера."
   ]
  },
  {
   "cell_type": "code",
   "execution_count": 18,
   "metadata": {},
   "outputs": [
    {
     "data": {
      "image/png": "[encoded data removed]",
      "text/plain": [
       "<Figure size 432x288 with 1 Axes>"
      ]
     },
     "metadata": {
      "needs_background": "light"
     },
     "output_type": "display_data"
    }
   ],
   "source": [
    "p = np.full((2,4), np.nan)\n",
    "\n",
    "for i in range(4):\n",
    "    p[:, i] = np.polyfit(v[i], y[i], 1)\n",
    "\n",
    "y_new = p[1] - 2 * np.log(T)\n",
    "x = 1 / T\n",
    "\n",
    "y_new_err = 0\n",
    "x_err = T_err / T**2\n",
    "\n",
    "plt.errorbar(x, y_new, xerr=x_err, yerr=y_new_err, ls='',\n",
    "             c='red', label='Эксперимент')\n",
    "\n",
    "a, b = np.polyfit(x, y_new, 1)\n",
    "plt.plot(x, a*x+b, 'b--', label=f'Линейная регрессия a={a:.2}, b={b:.3}')\n",
    "\n",
    "plt.xlabel(r'$1/T$, к${}^{-1}$', fontsize='x-large')\n",
    "plt.ylabel(r'$\\mathsf{ln}(j_0/T^2)$', fontsize='x-large')\n",
    "\n",
    "plt.grid()\n",
    "plt.legend(loc=1)\n",
    "\n",
    "plt.savefig('figures/ln_vs_1T.png', bbox_inches='tight', dpi=300)"
   ]
  },
  {
   "cell_type": "code",
   "execution_count": 27,
   "metadata": {},
   "outputs": [
    {
     "data": {
      "text/plain": [
       "(337.7953591712612, 1.4033831428678571)"
      ]
     },
     "execution_count": 27,
     "metadata": {},
     "output_type": "execute_result"
    }
   ],
   "source": [
    "# Оценка погрешности коэффициентов линейной регрессии\n",
    "# http://npm.mipt.ru/books/lab-intro/Ch3.html\n",
    "a_err = np.sqrt((np.cov(y_new) / np.cov(x) - a**2) / (len(x) - 2))\n",
    "b_err = a_err * np.sqrt((x**2).mean())\n",
    "\n",
    "a_err, b_err"
   ]
  },
  {
   "cell_type": "code",
   "execution_count": 30,
   "metadata": {},
   "outputs": [
    {
     "name": "stdout",
     "output_type": "stream",
     "text": [
      "A* = 7338.391793228548 +- 10298.57533837677 А м-2 к-2\n"
     ]
    }
   ],
   "source": [
    "print(f'A* = {np.exp(b):} +- {np.exp(b)*b_err:} А м-2 к-2')"
   ]
  },
  {
   "cell_type": "code",
   "execution_count": 29,
   "metadata": {},
   "outputs": [
    {
     "name": "stdout",
     "output_type": "stream",
     "text": [
      "phi_0 = 0.80 +- 0.03 В\n"
     ]
    }
   ],
   "source": [
    "print(f'phi_0 = {-a*k/e:.2f} +- {a_err*k/e:.2f} В')"
   ]
  },
  {
   "cell_type": "code",
   "execution_count": 23,
   "metadata": {},
   "outputs": [
    {
     "name": "stdout",
     "output_type": "stream",
     "text": [
      "m*/m = 0.006 +- 0.009\n"
     ]
    }
   ],
   "source": [
    "print(f'm*/m = {np.exp(b)/1.2e6:.3f} +- {np.exp(b)*b_err/1.2e6:.3f}')# +- {np.exp(b)*b_err/1.2e6}')"
   ]
  },
  {
   "cell_type": "markdown",
   "metadata": {},
   "source": [
    "Определение фактора неидиальности производится по формуле $$n = \\frac{ej}{kT\\; \\mathrm{d}{j}\\,/\\,\\mathrm{d}{V}}$$"
   ]
  },
  {
   "cell_type": "code",
   "execution_count": 24,
   "metadata": {},
   "outputs": [
    {
     "data": {
      "text/plain": [
       "<matplotlib.legend.Legend at 0x7ff4c4544f40>"
      ]
     },
     "execution_count": 24,
     "metadata": {},
     "output_type": "execute_result"
    },
    {
     "data": {
      "image/png": "[encoded data removed]",
      "text/plain": [
       "<Figure size 432x288 with 1 Axes>"
      ]
     },
     "metadata": {
      "needs_background": "light"
     },
     "output_type": "display_data"
    }
   ],
   "source": [
    "for i in range(4):\n",
    "    plt.plot(v[i][1:-1], e*j[i][1:-1]/(dj_dv[i]*k*T[i]), \n",
    "             label=fr\"T = {T[i]:.4} $\\pm$ {T_err[i]:.2} К\", lw=1)\n",
    "\n",
    "plt.xlabel('Напряжение V, В', fontsize='x-large')\n",
    "plt.ylabel(r'Фактор неидеальности $n$', fontsize='x-large')\n",
    "\n",
    "plt.grid()\n",
    "plt.legend()"
   ]
  },
  {
   "cell_type": "code",
   "execution_count": 25,
   "metadata": {},
   "outputs": [],
   "source": [
    "n = np.array(e*j[0][1:-1]/(dj_dv[0]*k*T[0]))\n",
    "for i in range(1,4):\n",
    "    n = np.append(n, np.array(e*j[i][1:-1]/(dj_dv[i]*k*T[i])))"
   ]
  },
  {
   "cell_type": "code",
   "execution_count": 26,
   "metadata": {},
   "outputs": [
    {
     "name": "stdout",
     "output_type": "stream",
     "text": [
      "n = 1.24 +- 0.51\n"
     ]
    }
   ],
   "source": [
    "print(f'n = {n.mean():.3} +- {n.std():.2}')"
   ]
  },
  {
   "cell_type": "code",
   "execution_count": null,
   "metadata": {},
   "outputs": [],
   "source": []
  }
 ],
 "metadata": {
  "kernelspec": {
   "display_name": "Python 3",
   "language": "python",
   "name": "python3"
  },
  "language_info": {
   "codemirror_mode": {
    "name": "ipython",
    "version": 3
   },
   "file_extension": ".py",
   "mimetype": "text/x-python",
   "name": "python",
   "nbconvert_exporter": "python",
   "pygments_lexer": "ipython3",
   "version": "3.9.12"
  }
 },
 "nbformat": 4,
 "nbformat_minor": 4
}
